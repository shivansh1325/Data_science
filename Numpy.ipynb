{
 "cells": [
  {
   "cell_type": "markdown",
   "id": "7d97fa20-b02e-4b91-a246-ddafd7a8a2bc",
   "metadata": {},
   "source": [
    "# Numpy --Practice"
   ]
  },
  {
   "cell_type": "code",
   "execution_count": 5,
   "id": "8c6d5840-0859-4da0-99f7-cbde87cc3759",
   "metadata": {},
   "outputs": [],
   "source": [
    "import numpy as np"
   ]
  },
  {
   "cell_type": "code",
   "execution_count": 27,
   "id": "6038c7fa-bfd9-4e49-9062-48277b6c7b3a",
   "metadata": {},
   "outputs": [
    {
     "data": {
      "text/plain": [
       "2"
      ]
     },
     "execution_count": 27,
     "metadata": {},
     "output_type": "execute_result"
    }
   ],
   "source": [
    "a=np.random.random(25).reshape([5,5])\n",
    "a.ndim\n"
   ]
  },
  {
   "cell_type": "code",
   "execution_count": 65,
   "id": "8178ea8e-bbc0-4fbf-9244-9a086e70ff49",
   "metadata": {},
   "outputs": [
    {
     "data": {
      "text/plain": [
       "2"
      ]
     },
     "execution_count": 65,
     "metadata": {},
     "output_type": "execute_result"
    }
   ],
   "source": [
    "np.array([[5,6],[5,6]]).ndim"
   ]
  },
  {
   "cell_type": "code",
   "execution_count": 93,
   "id": "28600ae9-4edb-482f-9423-470a73232d3d",
   "metadata": {},
   "outputs": [
    {
     "data": {
      "text/plain": [
       "array([[[ 0,  1,  2,  3,  4],\n",
       "        [ 5,  6,  7,  8,  9]],\n",
       "\n",
       "       [[10, 11, 12, 13, 14],\n",
       "        [15, 16, 17, 18, 19]],\n",
       "\n",
       "       [[20, 21, 22, 23, 24],\n",
       "        [25, 26, 27, 28, 29]],\n",
       "\n",
       "       [[30, 31, 32, 33, 34],\n",
       "        [35, 36, 37, 38, 39]],\n",
       "\n",
       "       [[40, 41, 42, 43, 44],\n",
       "        [45, 46, 47, 48, 49]]])"
      ]
     },
     "execution_count": 93,
     "metadata": {},
     "output_type": "execute_result"
    }
   ],
   "source": [
    "a=np.arange(0,50).reshape(5,2,5)\n",
    "a"
   ]
  },
  {
   "cell_type": "code",
   "execution_count": 98,
   "id": "ead55499-f93f-4ccc-bf77-67abab0a55aa",
   "metadata": {},
   "outputs": [
    {
     "name": "stdout",
     "output_type": "stream",
     "text": [
      "shape of Array (5, 2, 5)\n",
      "dimention of Array 3\n",
      "Data type of Array int32\n",
      "size of Array 50\n"
     ]
    }
   ],
   "source": [
    "print(\"shape of Array\",a.shape)\n",
    "print(\"dimention of Array\",a.ndim)\n",
    "print(\"Data type of Array\",a.dtype)\n",
    "print(\"size of Array\",a.size)"
   ]
  },
  {
   "cell_type": "markdown",
   "id": "4302144e-a2b2-44c2-ad65-6cef5606485d",
   "metadata": {},
   "source": [
    "# Create a Basic Array"
   ]
  },
  {
   "cell_type": "code",
   "execution_count": 108,
   "id": "c71387f8-c02b-455f-bdd2-69d22fb7e299",
   "metadata": {},
   "outputs": [
    {
     "data": {
      "text/plain": [
       "array([[1., 1., 1.],\n",
       "       [1., 1., 1.]])"
      ]
     },
     "execution_count": 108,
     "metadata": {},
     "output_type": "execute_result"
    }
   ],
   "source": [
    "np.ones([2,3])"
   ]
  },
  {
   "cell_type": "code",
   "execution_count": 112,
   "id": "364f87dc-5ebb-4189-8125-401ca28bb2dc",
   "metadata": {},
   "outputs": [
    {
     "data": {
      "text/plain": [
       "array([[0., 0., 0., 0., 0.],\n",
       "       [0., 0., 0., 0., 0.],\n",
       "       [0., 0., 0., 0., 0.],\n",
       "       [0., 0., 0., 0., 0.],\n",
       "       [0., 0., 0., 0., 0.]])"
      ]
     },
     "execution_count": 112,
     "metadata": {},
     "output_type": "execute_result"
    }
   ],
   "source": [
    "np.zeros([5,5])"
   ]
  },
  {
   "cell_type": "code",
   "execution_count": 128,
   "id": "8016b379-3732-4cab-955f-b48658a4a3d1",
   "metadata": {},
   "outputs": [
    {
     "data": {
      "text/plain": [
       "array([[1., 1., 1.],\n",
       "       [1., 1., 1.]])"
      ]
     },
     "execution_count": 128,
     "metadata": {},
     "output_type": "execute_result"
    }
   ],
   "source": [
    "np.empty([2,3]) #random Values that can May vary"
   ]
  },
  {
   "cell_type": "code",
   "execution_count": 132,
   "id": "1d419492-b219-4bdb-ada7-b15e1a7dd3fb",
   "metadata": {},
   "outputs": [
    {
     "data": {
      "text/plain": [
       "array([ 0,  2,  4,  6,  8, 10, 12, 14, 16, 18])"
      ]
     },
     "execution_count": 132,
     "metadata": {},
     "output_type": "execute_result"
    }
   ],
   "source": [
    "np.arange(0,20,2)"
   ]
  },
  {
   "cell_type": "code",
   "execution_count": null,
   "id": "c420c1f0-3869-4f8a-8228-44c93b9526ab",
   "metadata": {},
   "outputs": [],
   "source": []
  }
 ],
 "metadata": {
  "kernelspec": {
   "display_name": "Python 3 (ipykernel)",
   "language": "python",
   "name": "python3"
  },
  "language_info": {
   "codemirror_mode": {
    "name": "ipython",
    "version": 3
   },
   "file_extension": ".py",
   "mimetype": "text/x-python",
   "name": "python",
   "nbconvert_exporter": "python",
   "pygments_lexer": "ipython3",
   "version": "3.12.4"
  }
 },
 "nbformat": 4,
 "nbformat_minor": 5
}
