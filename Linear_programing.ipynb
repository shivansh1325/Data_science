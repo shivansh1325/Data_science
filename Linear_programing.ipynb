{
  "nbformat": 4,
  "nbformat_minor": 0,
  "metadata": {
    "colab": {
      "provenance": [],
      "authorship_tag": "ABX9TyPoaETs461nbLkyNzmbRD4m",
      "include_colab_link": true
    },
    "kernelspec": {
      "name": "python3",
      "display_name": "Python 3"
    },
    "language_info": {
      "name": "python"
    }
  },
  "cells": [
    {
      "cell_type": "markdown",
      "metadata": {
        "id": "view-in-github",
        "colab_type": "text"
      },
      "source": [
        "<a href=\"https://colab.research.google.com/github/shivansh1325/Data_science/blob/main/Linear_programing.ipynb\" target=\"_parent\"><img src=\"https://colab.research.google.com/assets/colab-badge.svg\" alt=\"Open In Colab\"/></a>"
      ]
    },
    {
      "cell_type": "code",
      "execution_count": 1,
      "metadata": {
        "colab": {
          "base_uri": "https://localhost:8080/"
        },
        "id": "8TAGYJ2ajs_G",
        "outputId": "2e6f4782-77f8-432c-ee4f-a384a5bd23c0"
      },
      "outputs": [
        {
          "output_type": "stream",
          "name": "stdout",
          "text": [
            "Optimal Pricing (quantity to produce for each product):\n",
            "x1 = 0.0\n",
            "x2 = 100.0\n",
            "x3 = 0.0\n",
            "Optimal profit: 600.0\n"
          ]
        }
      ],
      "source": [
        "from scipy.optimize import linprog\n",
        "\n",
        "# Prices in USD for each product\n",
        "prices = [10, 15, 20]\n",
        "\n",
        "# Cost of producing one unit\n",
        "cost = 5\n",
        "\n",
        "# Acceptance rates for each product\n",
        "acceptance_rates = [0.8, 0.6, 0.4]\n",
        "\n",
        "# Maximum production capacity\n",
        "max_capacity = 100\n",
        "\n",
        "# Objective function coefficients to maximize profit\n",
        "c = [-((p - cost) * a) for p, a in zip(prices, acceptance_rates)]\n",
        "\n",
        "# Coefficient matrix for the inequality constraint\n",
        "A = [[1] * len(prices)]\n",
        "\n",
        "# Right-hand side of the inequality constraint\n",
        "b = [max_capacity]\n",
        "\n",
        "# Bounds for variables (non-negativity constraint)\n",
        "bounds = [(0, None) for _ in range(len(prices))]\n",
        "\n",
        "# Solve the linear programming problem\n",
        "result = linprog(c, A_ub=A, b_ub=b, bounds=bounds)\n",
        "\n",
        "# Display the results\n",
        "print(\"Optimal Pricing (quantity to produce for each product):\")\n",
        "for i, x in enumerate(result.x):\n",
        "    print(f\"x{i+1} =\", x)\n",
        "\n",
        "print(\"Optimal profit:\", -result.fun)  # Note: Convert back to the maximized objective value\n"
      ]
    },
    {
      "cell_type": "code",
      "source": [
        "print(result)"
      ],
      "metadata": {
        "colab": {
          "base_uri": "https://localhost:8080/"
        },
        "id": "_QseLKw4mHlR",
        "outputId": "29686a2e-fcd6-45db-9ec0-8b626b2fa0fb"
      },
      "execution_count": 3,
      "outputs": [
        {
          "output_type": "stream",
          "name": "stdout",
          "text": [
            "        message: Optimization terminated successfully. (HiGHS Status 7: Optimal)\n",
            "        success: True\n",
            "         status: 0\n",
            "            fun: -600.0\n",
            "              x: [ 0.000e+00  1.000e+02  0.000e+00]\n",
            "            nit: 0\n",
            "          lower:  residual: [ 0.000e+00  1.000e+02  0.000e+00]\n",
            "                 marginals: [ 2.000e+00  0.000e+00  0.000e+00]\n",
            "          upper:  residual: [       inf        inf        inf]\n",
            "                 marginals: [ 0.000e+00  0.000e+00  0.000e+00]\n",
            "          eqlin:  residual: []\n",
            "                 marginals: []\n",
            "        ineqlin:  residual: [ 0.000e+00]\n",
            "                 marginals: [-6.000e+00]\n",
            " mip_node_count: 0\n",
            " mip_dual_bound: 0.0\n",
            "        mip_gap: 0.0\n"
          ]
        }
      ]
    },
    {
      "cell_type": "code",
      "source": [],
      "metadata": {
        "id": "XrB5Sc6JmKWV"
      },
      "execution_count": null,
      "outputs": []
    }
  ]
}