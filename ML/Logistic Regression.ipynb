{
 "cells": [
  {
   "cell_type": "code",
   "execution_count": 1,
   "id": "84a606b8-43fe-4f5e-bd01-9f52d4652c10",
   "metadata": {},
   "outputs": [],
   "source": [
    "import pandas as pd\n",
    "import seaborn as ans\n",
    "import numpy as np\n",
    "import matplotlib.pyplot as plt"
   ]
  },
  {
   "cell_type": "code",
   "execution_count": 2,
   "id": "aa8ad4f9-6347-4001-bccf-c7e1f41a1e89",
   "metadata": {},
   "outputs": [],
   "source": [
    "df = pd.read_csv(\"../diabetes (3).csv\")"
   ]
  },
  {
   "cell_type": "code",
   "execution_count": 3,
   "id": "509188a4-d0c1-4af5-9aef-1ff2fd00f4b0",
   "metadata": {},
   "outputs": [
    {
     "data": {
      "text/html": [
       "<div>\n",
       "<style scoped>\n",
       "    .dataframe tbody tr th:only-of-type {\n",
       "        vertical-align: middle;\n",
       "    }\n",
       "\n",
       "    .dataframe tbody tr th {\n",
       "        vertical-align: top;\n",
       "    }\n",
       "\n",
       "    .dataframe thead th {\n",
       "        text-align: right;\n",
       "    }\n",
       "</style>\n",
       "<table border=\"1\" class=\"dataframe\">\n",
       "  <thead>\n",
       "    <tr style=\"text-align: right;\">\n",
       "      <th></th>\n",
       "      <th>Pregnancies</th>\n",
       "      <th>Glucose</th>\n",
       "      <th>BloodPressure</th>\n",
       "      <th>SkinThickness</th>\n",
       "      <th>Insulin</th>\n",
       "      <th>BMI</th>\n",
       "      <th>DiabetesPedigreeFunction</th>\n",
       "      <th>Age</th>\n",
       "      <th>Outcome</th>\n",
       "    </tr>\n",
       "  </thead>\n",
       "  <tbody>\n",
       "    <tr>\n",
       "      <th>0</th>\n",
       "      <td>6</td>\n",
       "      <td>148</td>\n",
       "      <td>72</td>\n",
       "      <td>35</td>\n",
       "      <td>0</td>\n",
       "      <td>33.6</td>\n",
       "      <td>0.627</td>\n",
       "      <td>50</td>\n",
       "      <td>1</td>\n",
       "    </tr>\n",
       "    <tr>\n",
       "      <th>1</th>\n",
       "      <td>1</td>\n",
       "      <td>85</td>\n",
       "      <td>66</td>\n",
       "      <td>29</td>\n",
       "      <td>0</td>\n",
       "      <td>26.6</td>\n",
       "      <td>0.351</td>\n",
       "      <td>31</td>\n",
       "      <td>0</td>\n",
       "    </tr>\n",
       "  </tbody>\n",
       "</table>\n",
       "</div>"
      ],
      "text/plain": [
       "   Pregnancies  Glucose  BloodPressure  SkinThickness  Insulin   BMI  \\\n",
       "0            6      148             72             35        0  33.6   \n",
       "1            1       85             66             29        0  26.6   \n",
       "\n",
       "   DiabetesPedigreeFunction  Age  Outcome  \n",
       "0                     0.627   50        1  \n",
       "1                     0.351   31        0  "
      ]
     },
     "execution_count": 3,
     "metadata": {},
     "output_type": "execute_result"
    }
   ],
   "source": [
    "df.head(2)"
   ]
  },
  {
   "cell_type": "code",
   "execution_count": 4,
   "id": "c0c85a00-e60b-48df-b937-5293f12cda41",
   "metadata": {},
   "outputs": [
    {
     "data": {
      "text/plain": [
       "Pregnancies                 0\n",
       "Glucose                     0\n",
       "BloodPressure               0\n",
       "SkinThickness               0\n",
       "Insulin                     0\n",
       "BMI                         0\n",
       "DiabetesPedigreeFunction    0\n",
       "Age                         0\n",
       "Outcome                     0\n",
       "dtype: int64"
      ]
     },
     "execution_count": 4,
     "metadata": {},
     "output_type": "execute_result"
    }
   ],
   "source": [
    "df.isnull().sum()"
   ]
  },
  {
   "cell_type": "code",
   "execution_count": 5,
   "id": "6e8443dc-a762-46e4-b495-5aa099ed7d0c",
   "metadata": {},
   "outputs": [
    {
     "data": {
      "text/plain": [
       "Pregnancies                 0\n",
       "Glucose                     0\n",
       "BloodPressure               0\n",
       "SkinThickness               0\n",
       "Insulin                     0\n",
       "BMI                         0\n",
       "DiabetesPedigreeFunction    0\n",
       "Age                         0\n",
       "Outcome                     0\n",
       "dtype: int64"
      ]
     },
     "execution_count": 5,
     "metadata": {},
     "output_type": "execute_result"
    }
   ],
   "source": [
    "df.isna().sum()"
   ]
  },
  {
   "cell_type": "code",
   "execution_count": 6,
   "id": "cb46dd82-5c31-4350-b57b-4f06f88cef96",
   "metadata": {},
   "outputs": [
    {
     "data": {
      "text/plain": [
       "(20.939, 24.0]    219\n",
       "(24.0, 27.0]      113\n",
       "(27.0, 30.0]       85\n",
       "(30.0, 33.0]       57\n",
       "(39.0, 42.0]       53\n",
       "(36.0, 39.0]       47\n",
       "(33.0, 36.0]       40\n",
       "(42.0, 45.0]       36\n",
       "(45.0, 48.0]       24\n",
       "(48.0, 51.0]       21\n",
       "(51.0, 54.0]       19\n",
       "(57.0, 60.0]       15\n",
       "(54.0, 57.0]       12\n",
       "(60.0, 63.0]       10\n",
       "(63.0, 66.0]        8\n",
       "(66.0, 69.0]        6\n",
       "(69.0, 72.0]        2\n",
       "(78.0, 81.0]        1\n",
       "(72.0, 75.0]        0\n",
       "(75.0, 78.0]        0\n",
       "Name: count, dtype: int64"
      ]
     },
     "execution_count": 6,
     "metadata": {},
     "output_type": "execute_result"
    }
   ],
   "source": [
    "df['Age'].value_counts(bins=20)"
   ]
  },
  {
   "cell_type": "code",
   "execution_count": 7,
   "id": "cc6e718e-a41c-4911-afa1-f35d43d2f2f3",
   "metadata": {},
   "outputs": [
    {
     "data": {
      "text/html": [
       "<div>\n",
       "<style scoped>\n",
       "    .dataframe tbody tr th:only-of-type {\n",
       "        vertical-align: middle;\n",
       "    }\n",
       "\n",
       "    .dataframe tbody tr th {\n",
       "        vertical-align: top;\n",
       "    }\n",
       "\n",
       "    .dataframe thead th {\n",
       "        text-align: right;\n",
       "    }\n",
       "</style>\n",
       "<table border=\"1\" class=\"dataframe\">\n",
       "  <thead>\n",
       "    <tr style=\"text-align: right;\">\n",
       "      <th></th>\n",
       "      <th>Pregnancies</th>\n",
       "      <th>Glucose</th>\n",
       "      <th>BloodPressure</th>\n",
       "      <th>SkinThickness</th>\n",
       "      <th>Insulin</th>\n",
       "      <th>BMI</th>\n",
       "      <th>DiabetesPedigreeFunction</th>\n",
       "      <th>Age</th>\n",
       "      <th>Outcome</th>\n",
       "    </tr>\n",
       "  </thead>\n",
       "  <tbody>\n",
       "    <tr>\n",
       "      <th>Pregnancies</th>\n",
       "      <td>1.000000</td>\n",
       "      <td>0.129459</td>\n",
       "      <td>0.141282</td>\n",
       "      <td>-0.081672</td>\n",
       "      <td>-0.073535</td>\n",
       "      <td>0.017683</td>\n",
       "      <td>-0.033523</td>\n",
       "      <td>0.544341</td>\n",
       "      <td>0.221898</td>\n",
       "    </tr>\n",
       "    <tr>\n",
       "      <th>Glucose</th>\n",
       "      <td>0.129459</td>\n",
       "      <td>1.000000</td>\n",
       "      <td>0.152590</td>\n",
       "      <td>0.057328</td>\n",
       "      <td>0.331357</td>\n",
       "      <td>0.221071</td>\n",
       "      <td>0.137337</td>\n",
       "      <td>0.263514</td>\n",
       "      <td>0.466581</td>\n",
       "    </tr>\n",
       "    <tr>\n",
       "      <th>BloodPressure</th>\n",
       "      <td>0.141282</td>\n",
       "      <td>0.152590</td>\n",
       "      <td>1.000000</td>\n",
       "      <td>0.207371</td>\n",
       "      <td>0.088933</td>\n",
       "      <td>0.281805</td>\n",
       "      <td>0.041265</td>\n",
       "      <td>0.239528</td>\n",
       "      <td>0.065068</td>\n",
       "    </tr>\n",
       "    <tr>\n",
       "      <th>SkinThickness</th>\n",
       "      <td>-0.081672</td>\n",
       "      <td>0.057328</td>\n",
       "      <td>0.207371</td>\n",
       "      <td>1.000000</td>\n",
       "      <td>0.436783</td>\n",
       "      <td>0.392573</td>\n",
       "      <td>0.183928</td>\n",
       "      <td>-0.113970</td>\n",
       "      <td>0.074752</td>\n",
       "    </tr>\n",
       "    <tr>\n",
       "      <th>Insulin</th>\n",
       "      <td>-0.073535</td>\n",
       "      <td>0.331357</td>\n",
       "      <td>0.088933</td>\n",
       "      <td>0.436783</td>\n",
       "      <td>1.000000</td>\n",
       "      <td>0.197859</td>\n",
       "      <td>0.185071</td>\n",
       "      <td>-0.042163</td>\n",
       "      <td>0.130548</td>\n",
       "    </tr>\n",
       "    <tr>\n",
       "      <th>BMI</th>\n",
       "      <td>0.017683</td>\n",
       "      <td>0.221071</td>\n",
       "      <td>0.281805</td>\n",
       "      <td>0.392573</td>\n",
       "      <td>0.197859</td>\n",
       "      <td>1.000000</td>\n",
       "      <td>0.140647</td>\n",
       "      <td>0.036242</td>\n",
       "      <td>0.292695</td>\n",
       "    </tr>\n",
       "    <tr>\n",
       "      <th>DiabetesPedigreeFunction</th>\n",
       "      <td>-0.033523</td>\n",
       "      <td>0.137337</td>\n",
       "      <td>0.041265</td>\n",
       "      <td>0.183928</td>\n",
       "      <td>0.185071</td>\n",
       "      <td>0.140647</td>\n",
       "      <td>1.000000</td>\n",
       "      <td>0.033561</td>\n",
       "      <td>0.173844</td>\n",
       "    </tr>\n",
       "    <tr>\n",
       "      <th>Age</th>\n",
       "      <td>0.544341</td>\n",
       "      <td>0.263514</td>\n",
       "      <td>0.239528</td>\n",
       "      <td>-0.113970</td>\n",
       "      <td>-0.042163</td>\n",
       "      <td>0.036242</td>\n",
       "      <td>0.033561</td>\n",
       "      <td>1.000000</td>\n",
       "      <td>0.238356</td>\n",
       "    </tr>\n",
       "    <tr>\n",
       "      <th>Outcome</th>\n",
       "      <td>0.221898</td>\n",
       "      <td>0.466581</td>\n",
       "      <td>0.065068</td>\n",
       "      <td>0.074752</td>\n",
       "      <td>0.130548</td>\n",
       "      <td>0.292695</td>\n",
       "      <td>0.173844</td>\n",
       "      <td>0.238356</td>\n",
       "      <td>1.000000</td>\n",
       "    </tr>\n",
       "  </tbody>\n",
       "</table>\n",
       "</div>"
      ],
      "text/plain": [
       "                          Pregnancies   Glucose  BloodPressure  SkinThickness  \\\n",
       "Pregnancies                  1.000000  0.129459       0.141282      -0.081672   \n",
       "Glucose                      0.129459  1.000000       0.152590       0.057328   \n",
       "BloodPressure                0.141282  0.152590       1.000000       0.207371   \n",
       "SkinThickness               -0.081672  0.057328       0.207371       1.000000   \n",
       "Insulin                     -0.073535  0.331357       0.088933       0.436783   \n",
       "BMI                          0.017683  0.221071       0.281805       0.392573   \n",
       "DiabetesPedigreeFunction    -0.033523  0.137337       0.041265       0.183928   \n",
       "Age                          0.544341  0.263514       0.239528      -0.113970   \n",
       "Outcome                      0.221898  0.466581       0.065068       0.074752   \n",
       "\n",
       "                           Insulin       BMI  DiabetesPedigreeFunction  \\\n",
       "Pregnancies              -0.073535  0.017683                 -0.033523   \n",
       "Glucose                   0.331357  0.221071                  0.137337   \n",
       "BloodPressure             0.088933  0.281805                  0.041265   \n",
       "SkinThickness             0.436783  0.392573                  0.183928   \n",
       "Insulin                   1.000000  0.197859                  0.185071   \n",
       "BMI                       0.197859  1.000000                  0.140647   \n",
       "DiabetesPedigreeFunction  0.185071  0.140647                  1.000000   \n",
       "Age                      -0.042163  0.036242                  0.033561   \n",
       "Outcome                   0.130548  0.292695                  0.173844   \n",
       "\n",
       "                               Age   Outcome  \n",
       "Pregnancies               0.544341  0.221898  \n",
       "Glucose                   0.263514  0.466581  \n",
       "BloodPressure             0.239528  0.065068  \n",
       "SkinThickness            -0.113970  0.074752  \n",
       "Insulin                  -0.042163  0.130548  \n",
       "BMI                       0.036242  0.292695  \n",
       "DiabetesPedigreeFunction  0.033561  0.173844  \n",
       "Age                       1.000000  0.238356  \n",
       "Outcome                   0.238356  1.000000  "
      ]
     },
     "execution_count": 7,
     "metadata": {},
     "output_type": "execute_result"
    }
   ],
   "source": [
    "df.corr()"
   ]
  },
  {
   "cell_type": "code",
   "execution_count": 8,
   "id": "1c89e5c8-8d46-4920-a7e1-f9915ae62371",
   "metadata": {
    "scrolled": true
   },
   "outputs": [
    {
     "data": {
      "text/plain": [
       "(33.55, 36.905]                  140\n",
       "(30.195, 33.55]                  138\n",
       "(26.84, 30.195]                  130\n",
       "(23.485, 26.84]                  109\n",
       "(36.905, 40.26]                   84\n",
       "(40.26, 43.615]                   50\n",
       "(20.13, 23.485]                   47\n",
       "(43.615, 46.97]                   28\n",
       "(16.775, 20.13]                   15\n",
       "(-0.06810000000000001, 3.355]     11\n",
       "(46.97, 50.325]                    8\n",
       "(50.325, 53.68]                    4\n",
       "(57.035, 60.39]                    2\n",
       "(53.68, 57.035]                    1\n",
       "(63.745, 67.1]                     1\n",
       "(3.355, 6.71]                      0\n",
       "(13.42, 16.775]                    0\n",
       "(10.065, 13.42]                    0\n",
       "(6.71, 10.065]                     0\n",
       "(60.39, 63.745]                    0\n",
       "Name: count, dtype: int64"
      ]
     },
     "execution_count": 8,
     "metadata": {},
     "output_type": "execute_result"
    }
   ],
   "source": [
    "df['BMI'].value_counts(bins=20)"
   ]
  },
  {
   "cell_type": "code",
   "execution_count": 9,
   "id": "850ae4ba-a99c-4fa1-b435-e3c0ae23761c",
   "metadata": {
    "scrolled": true
   },
   "outputs": [
    {
     "data": {
      "text/plain": [
       "(92.867, 106.133]     145\n",
       "(106.133, 119.4]      130\n",
       "(119.4, 132.667]      119\n",
       "(79.6, 92.867]         92\n",
       "(132.667, 145.933]     77\n",
       "(145.933, 159.2]       62\n",
       "(159.2, 172.467]       37\n",
       "(172.467, 185.733]     36\n",
       "(66.333, 79.6]         29\n",
       "(185.733, 199.0]       29\n",
       "(53.067, 66.333]        6\n",
       "(-0.2, 13.267]          5\n",
       "(39.8, 53.067]          1\n",
       "(13.267, 26.533]        0\n",
       "(26.533, 39.8]          0\n",
       "Name: count, dtype: int64"
      ]
     },
     "execution_count": 9,
     "metadata": {},
     "output_type": "execute_result"
    }
   ],
   "source": [
    "df['Glucose'].value_counts(bins=15)"
   ]
  },
  {
   "cell_type": "code",
   "execution_count": 10,
   "id": "7c7dfe41-0a8b-47e9-a346-a6a82836402a",
   "metadata": {},
   "outputs": [
    {
     "data": {
      "text/plain": [
       "(-0.018000000000000002, 1.133]    246\n",
       "(1.133, 2.267]                    103\n",
       "(2.267, 3.4]                       75\n",
       "(3.4, 4.533]                       68\n",
       "(7.933, 9.067]                     66\n",
       "(4.533, 5.667]                     57\n",
       "(5.667, 6.8]                       50\n",
       "(6.8, 7.933]                       45\n",
       "(9.067, 10.2]                      24\n",
       "(10.2, 11.333]                     11\n",
       "(12.467, 13.6]                     10\n",
       "(11.333, 12.467]                    9\n",
       "(13.6, 14.733]                      2\n",
       "(14.733, 15.867]                    1\n",
       "(15.867, 17.0]                      1\n",
       "Name: count, dtype: int64"
      ]
     },
     "execution_count": 10,
     "metadata": {},
     "output_type": "execute_result"
    }
   ],
   "source": [
    "df['Pregnancies'].value_counts(bins=15)"
   ]
  },
  {
   "cell_type": "code",
   "execution_count": 11,
   "id": "c740abaa-f805-4148-862f-d20c58d741ef",
   "metadata": {},
   "outputs": [
    {
     "data": {
      "text/plain": [
       "115"
      ]
     },
     "execution_count": 11,
     "metadata": {},
     "output_type": "execute_result"
    }
   ],
   "source": [
    "len(df.query(\"26<= BMI <= 34 and Outcome == 1\"))"
   ]
  },
  {
   "cell_type": "code",
   "execution_count": 12,
   "id": "f788a20f-67c9-4c85-a010-6dd4847c02e3",
   "metadata": {},
   "outputs": [
    {
     "data": {
      "text/plain": [
       "67.1"
      ]
     },
     "execution_count": 12,
     "metadata": {},
     "output_type": "execute_result"
    }
   ],
   "source": [
    "df['BMI'].max()"
   ]
  },
  {
   "cell_type": "code",
   "execution_count": 13,
   "id": "caa0c1c5-10b8-4af3-825a-9e3b529ac962",
   "metadata": {},
   "outputs": [
    {
     "data": {
      "text/plain": [
       "113"
      ]
     },
     "execution_count": 13,
     "metadata": {},
     "output_type": "execute_result"
    }
   ],
   "source": [
    "len(df.query(\"0<= Pregnancies <= 3 and Outcome == 1\"))"
   ]
  },
  {
   "cell_type": "code",
   "execution_count": 14,
   "id": "903a4fc6-4a9b-4e97-ac28-e312938749e7",
   "metadata": {},
   "outputs": [
    {
     "data": {
      "text/plain": [
       "64"
      ]
     },
     "execution_count": 14,
     "metadata": {},
     "output_type": "execute_result"
    }
   ],
   "source": [
    "len(df.query(\"92<= Glucose <= 120 and Outcome == 1\"))"
   ]
  },
  {
   "cell_type": "code",
   "execution_count": 15,
   "id": "b46c0d91-8dad-43af-ba59-9a7f87c52512",
   "metadata": {},
   "outputs": [
    {
     "data": {
      "text/plain": [
       "231"
      ]
     },
     "execution_count": 15,
     "metadata": {},
     "output_type": "execute_result"
    }
   ],
   "source": [
    "len(df.query(\"92<= Glucose <= 120 and Outcome == 0\"))"
   ]
  },
  {
   "cell_type": "code",
   "execution_count": 16,
   "id": "7ec68271-d494-441e-957d-427873214322",
   "metadata": {},
   "outputs": [
    {
     "data": {
      "text/plain": [
       "268"
      ]
     },
     "execution_count": 16,
     "metadata": {},
     "output_type": "execute_result"
    }
   ],
   "source": [
    "len(df.query(\"Outcome == 1\"))"
   ]
  },
  {
   "cell_type": "code",
   "execution_count": 17,
   "id": "3284a525-668a-4704-864a-d1403674f93f",
   "metadata": {},
   "outputs": [],
   "source": [
    "df1 =df.query(\"Outcome == 1\")"
   ]
  },
  {
   "cell_type": "code",
   "execution_count": 18,
   "id": "0ddf756e-b65c-4434-bc50-0308e21dcde5",
   "metadata": {},
   "outputs": [
    {
     "data": {
      "text/plain": [
       "(119.4, 139.3]    63\n",
       "(99.5, 119.4]     54\n",
       "(139.3, 159.2]    51\n",
       "(159.2, 179.1]    45\n",
       "(179.1, 199.0]    39\n",
       "(79.6, 99.5]      13\n",
       "(-0.2, 19.9]       2\n",
       "(59.7, 79.6]       1\n",
       "(19.9, 39.8]       0\n",
       "(39.8, 59.7]       0\n",
       "Name: count, dtype: int64"
      ]
     },
     "execution_count": 18,
     "metadata": {},
     "output_type": "execute_result"
    }
   ],
   "source": [
    "df1['Glucose'].value_counts(bins = 10)"
   ]
  },
  {
   "cell_type": "code",
   "execution_count": 19,
   "id": "f666f25b-1f50-446f-bb4b-371646ca3ec2",
   "metadata": {},
   "outputs": [],
   "source": [
    "df2 =df.query(\"Glucose >= 100 and Outcome == 1\")"
   ]
  },
  {
   "cell_type": "code",
   "execution_count": 20,
   "id": "6c43ad3e-2e32-4131-a8b4-9f9553f635d6",
   "metadata": {},
   "outputs": [
    {
     "data": {
      "text/plain": [
       "(119.8, 129.7]                36\n",
       "(139.6, 149.5]                29\n",
       "(99.89999999999999, 109.9]    28\n",
       "(129.7, 139.6]                27\n",
       "(109.9, 119.8]                26\n",
       "(179.2, 189.1]                25\n",
       "(159.4, 169.3]                24\n",
       "(149.5, 159.4]                22\n",
       "(169.3, 179.2]                21\n",
       "(189.1, 199.0]                14\n",
       "Name: count, dtype: int64"
      ]
     },
     "execution_count": 20,
     "metadata": {},
     "output_type": "execute_result"
    }
   ],
   "source": [
    "df2['Glucose'].value_counts(bins = 10)"
   ]
  },
  {
   "cell_type": "code",
   "execution_count": 21,
   "id": "dfde4b1d-bbb8-4b6e-bc0f-5cfd7a7acf78",
   "metadata": {},
   "outputs": [
    {
     "data": {
      "text/plain": [
       "(31.313, 35.787]                 84\n",
       "(26.84, 31.313]                  59\n",
       "(35.787, 40.26]                  53\n",
       "(40.26, 44.733]                  32\n",
       "(22.367, 26.84]                  16\n",
       "(44.733, 49.207]                 12\n",
       "(49.207, 53.68]                   7\n",
       "(-0.06810000000000001, 4.473]     2\n",
       "(53.68, 58.153]                   1\n",
       "(58.153, 62.627]                  1\n",
       "(62.627, 67.1]                    1\n",
       "(4.473, 8.947]                    0\n",
       "(8.947, 13.42]                    0\n",
       "(13.42, 17.893]                   0\n",
       "(17.893, 22.367]                  0\n",
       "Name: count, dtype: int64"
      ]
     },
     "execution_count": 21,
     "metadata": {},
     "output_type": "execute_result"
    }
   ],
   "source": [
    "df1['BMI'].value_counts(bins=15)"
   ]
  },
  {
   "cell_type": "code",
   "execution_count": 22,
   "id": "d17a29f8-fc83-4172-a0c2-19ce9501027b",
   "metadata": {},
   "outputs": [
    {
     "data": {
      "text/plain": [
       "256"
      ]
     },
     "execution_count": 22,
     "metadata": {},
     "output_type": "execute_result"
    }
   ],
   "source": [
    "len(df.query(\"BMI >= 20 and BMI<= 49 and Outcome == 1\"))"
   ]
  },
  {
   "cell_type": "code",
   "execution_count": 23,
   "id": "49289fde-f6cc-4c64-95e9-5d4815dc38ac",
   "metadata": {},
   "outputs": [
    {
     "data": {
      "text/plain": [
       "(768, 9)"
      ]
     },
     "execution_count": 23,
     "metadata": {},
     "output_type": "execute_result"
    }
   ],
   "source": [
    "df.shape"
   ]
  },
  {
   "cell_type": "code",
   "execution_count": 24,
   "id": "b8473ce1-b6b3-4a9e-8646-529a18c9dbd1",
   "metadata": {},
   "outputs": [
    {
     "data": {
      "text/plain": [
       "131"
      ]
     },
     "execution_count": 24,
     "metadata": {},
     "output_type": "execute_result"
    }
   ],
   "source": [
    "len(df.query(\"20<= Age <= 35 and Outcome == 1\"))"
   ]
  },
  {
   "cell_type": "code",
   "execution_count": 25,
   "id": "3886dfad-551e-451a-ac76-ed05e514cf95",
   "metadata": {},
   "outputs": [
    {
     "data": {
      "text/plain": [
       "367"
      ]
     },
     "execution_count": 25,
     "metadata": {},
     "output_type": "execute_result"
    }
   ],
   "source": [
    "len(df.query(\"20<= Age <= 35 and Outcome == 0\"))"
   ]
  },
  {
   "cell_type": "code",
   "execution_count": 26,
   "id": "09400912-69ca-4639-a38a-150276ccf51a",
   "metadata": {},
   "outputs": [
    {
     "data": {
      "text/plain": [
       "180"
      ]
     },
     "execution_count": 26,
     "metadata": {},
     "output_type": "execute_result"
    }
   ],
   "source": [
    "len(df.query(\"30<= Age <= 65 and Outcome == 1\"))"
   ]
  },
  {
   "cell_type": "code",
   "execution_count": 27,
   "id": "835c1fa1-4c1c-4fed-b9bb-9500ac011a7c",
   "metadata": {},
   "outputs": [
    {
     "ename": "SyntaxError",
     "evalue": "invalid syntax (793348881.py, line 1)",
     "output_type": "error",
     "traceback": [
      "\u001b[1;36m  Cell \u001b[1;32mIn[27], line 1\u001b[1;36m\u001b[0m\n\u001b[1;33m    33 35,43 49, 30 60\u001b[0m\n\u001b[1;37m       ^\u001b[0m\n\u001b[1;31mSyntaxError\u001b[0m\u001b[1;31m:\u001b[0m invalid syntax\n"
     ]
    }
   ],
   "source": [
    "33 35,43 49, 30 60"
   ]
  },
  {
   "cell_type": "code",
   "execution_count": null,
   "id": "211591dd-f747-4e37-9ced-06e920ac24fd",
   "metadata": {},
   "outputs": [],
   "source": [
    "len(df.query(\"33<= Age <= 35 and Outcome == 1 and \"))"
   ]
  },
  {
   "cell_type": "code",
   "execution_count": null,
   "id": "188028fb-d1f1-4147-a8d9-c12c552e36ae",
   "metadata": {},
   "outputs": [],
   "source": [
    "p=df['Pregnancies'].value_counts(bins=20)\n",
    "p"
   ]
  },
  {
   "cell_type": "code",
   "execution_count": null,
   "id": "07329f7f-e99f-4196-8754-165bae6a9c15",
   "metadata": {},
   "outputs": [],
   "source": [
    "len(df.query(\"Pregnancies >= 0.85 and Outcome == 1\"))"
   ]
  },
  {
   "cell_type": "code",
   "execution_count": null,
   "id": "c2653c75-79a2-45cb-a764-7484d911c79d",
   "metadata": {},
   "outputs": [],
   "source": [
    "df.head(3)"
   ]
  },
  {
   "cell_type": "code",
   "execution_count": null,
   "id": "68e369b3-26d7-4b5d-9612-cd47f031fb67",
   "metadata": {},
   "outputs": [],
   "source": [
    "df1['DiabetesPedigreeFunction'].value_counts(bins=20)"
   ]
  },
  {
   "cell_type": "code",
   "execution_count": null,
   "id": "458866d4-307b-4e02-95e8-4435eafc030d",
   "metadata": {},
   "outputs": [],
   "source": [
    "len(df.query(\"DiabetesPedigreeFunction >=0.205 and Outcome == 1\"))"
   ]
  },
  {
   "cell_type": "code",
   "execution_count": null,
   "id": "177b6aae-b94f-4689-b7a5-874bfcf6f8bd",
   "metadata": {},
   "outputs": [],
   "source": [
    "a= np.arange(0,10)\n",
    "b=np.arange(0,10)\n",
    "a,b"
   ]
  },
  {
   "cell_type": "code",
   "execution_count": null,
   "id": "7af05d07-79c7-4a96-b50a-c0ede0c3142f",
   "metadata": {},
   "outputs": [],
   "source": [
    "plt.plot(a,b)"
   ]
  },
  {
   "cell_type": "code",
   "execution_count": null,
   "id": "950a95cf-d92e-486a-8b40-2923b854afe2",
   "metadata": {},
   "outputs": [],
   "source": [
    "e=np.log10(b)\n",
    "plt.plot(a,e)"
   ]
  },
  {
   "cell_type": "code",
   "execution_count": null,
   "id": "6b0159a6-aa48-47d3-b968-af989d00657d",
   "metadata": {},
   "outputs": [],
   "source": [
    "e=np.exp2(b)\n",
    "plt.plot(a,e)"
   ]
  },
  {
   "cell_type": "code",
   "execution_count": null,
   "id": "fe025d18-6428-4869-b4eb-6104d352301b",
   "metadata": {},
   "outputs": [],
   "source": [
    "e=np.logical_and(a,b)\n",
    "plt.plot(a,e)"
   ]
  },
  {
   "cell_type": "code",
   "execution_count": null,
   "id": "a8a4c267-6400-4ac9-8b08-bfbac3b95630",
   "metadata": {},
   "outputs": [],
   "source": [
    "df.columns"
   ]
  },
  {
   "cell_type": "code",
   "execution_count": null,
   "id": "fb2fb11b-0962-4599-8134-9ae357658247",
   "metadata": {},
   "outputs": [],
   "source": [
    "x =df.iloc[:,:-1]"
   ]
  },
  {
   "cell_type": "code",
   "execution_count": null,
   "id": "ca647696-a937-4bb6-a22a-6d3c4de037be",
   "metadata": {},
   "outputs": [],
   "source": [
    "y=df['Outcome']"
   ]
  },
  {
   "cell_type": "code",
   "execution_count": null,
   "id": "4c8953bf-cc70-41a3-a607-0cfa556225e8",
   "metadata": {},
   "outputs": [],
   "source": [
    "from sklearn.model_selection import train_test_split\n",
    "x_train,x_test,y_train,y_test = train_test_split(x,y,test_size=0.35,random_state=100)"
   ]
  },
  {
   "cell_type": "code",
   "execution_count": null,
   "id": "2f7cf34a-942c-49ea-bb17-d6390940c22e",
   "metadata": {},
   "outputs": [],
   "source": [
    "print(x_train.shape)\n",
    "print(x_test.shape)\n",
    "print(y_train.shape)\n",
    "print(y_test.shape)"
   ]
  },
  {
   "cell_type": "markdown",
   "id": "b0761fb4-c49e-455d-87a9-27429977bb39",
   "metadata": {},
   "source": [
    "https://static.javatpoint.com/tutorial/machine-learning/images/performance-metrics-in-machine-learning2.png"
   ]
  },
  {
   "cell_type": "markdown",
   "id": "e88a6a97-1d2d-4ca6-ab07-b5ebe8e73c86",
   "metadata": {},
   "source": [
    "TP predictted and actual is true, TN predicted and actual is false \n",
    "\n",
    "recall TP/TP + FN"
   ]
  },
  {
   "cell_type": "code",
   "execution_count": null,
   "id": "9d67c69d-c9b5-4678-a296-29ebebbf7f8a",
   "metadata": {},
   "outputs": [],
   "source": [
    "from sklearn.linear_model import LogisticRegression\n",
    "lr=LogisticRegression()"
   ]
  },
  {
   "cell_type": "code",
   "execution_count": null,
   "id": "aa347644-7e89-43d1-8a3c-46a444f83bd8",
   "metadata": {},
   "outputs": [],
   "source": [
    "lr.fit(x_train,y_train)"
   ]
  },
  {
   "cell_type": "code",
   "execution_count": null,
   "id": "1b434f13-9222-480f-8d19-7e68e74270d4",
   "metadata": {},
   "outputs": [],
   "source": [
    "y_pred=lr.predict(x_test)"
   ]
  },
  {
   "cell_type": "code",
   "execution_count": null,
   "id": "8651b74e-35b4-4c79-ae34-bd578f4201a1",
   "metadata": {},
   "outputs": [],
   "source": [
    "from sklearn.metrics import f1_score ,accuracy_score ,precision_score ,recall_score,confusion_matrix"
   ]
  },
  {
   "cell_type": "code",
   "execution_count": null,
   "id": "a206e410-824d-4539-bd36-89f501a06314",
   "metadata": {},
   "outputs": [],
   "source": [
    "precision_score(y_test,y_pred)"
   ]
  },
  {
   "cell_type": "code",
   "execution_count": null,
   "id": "ec4a0ada-8683-4b10-8081-a9fdf81a698f",
   "metadata": {},
   "outputs": [],
   "source": [
    "f1_score(y_test,y_pred)"
   ]
  },
  {
   "cell_type": "code",
   "execution_count": null,
   "id": "33a2d674-13be-4b10-af5b-17af5b7fd6a8",
   "metadata": {},
   "outputs": [],
   "source": [
    "accuracy_score(y_test,y_pred)"
   ]
  },
  {
   "cell_type": "code",
   "execution_count": null,
   "id": "4602f698-b05a-4d33-b030-e7fa4f483fb0",
   "metadata": {},
   "outputs": [],
   "source": [
    "recall_score(y_test,y_pred)"
   ]
  },
  {
   "cell_type": "code",
   "execution_count": null,
   "id": "9639a10d-4764-4ed8-84b9-5404c136598c",
   "metadata": {},
   "outputs": [],
   "source": [
    "confusion_matrix(y_test,y_pred)"
   ]
  },
  {
   "cell_type": "code",
   "execution_count": null,
   "id": "7999289c-77c3-4710-a319-358f481cdb24",
   "metadata": {},
   "outputs": [],
   "source": [
    "from sklearn import tree\n",
    "dt=tree.DecisionTreeClassifier()"
   ]
  },
  {
   "cell_type": "code",
   "execution_count": null,
   "id": "10550a39-df83-4142-b2e9-bafd12b3c2d7",
   "metadata": {},
   "outputs": [],
   "source": [
    "dt.fit(x_train,y_train)"
   ]
  },
  {
   "cell_type": "code",
   "execution_count": null,
   "id": "5cb1253f-98cb-458a-947a-96e99248661e",
   "metadata": {},
   "outputs": [],
   "source": [
    "y_pred=dt.predict(x_test)"
   ]
  },
  {
   "cell_type": "code",
   "execution_count": null,
   "id": "be66a3f5-1e9a-449f-9ffd-18c58fa3da04",
   "metadata": {},
   "outputs": [],
   "source": [
    "precision_score(y_test,y_pred)"
   ]
  },
  {
   "cell_type": "code",
   "execution_count": null,
   "id": "6e9f6db5-6cb4-4d2f-babd-7d7fcf0122ea",
   "metadata": {},
   "outputs": [],
   "source": [
    "accuracy_score(y_test,y_pred)"
   ]
  },
  {
   "cell_type": "code",
   "execution_count": null,
   "id": "b3d52d8a-f56e-4768-a3b2-e1db9aa9a991",
   "metadata": {},
   "outputs": [],
   "source": [
    "f1_score(y_test,y_pred)"
   ]
  },
  {
   "cell_type": "code",
   "execution_count": null,
   "id": "cc10daec-1fe3-4e47-ba21-cb454f0ec9df",
   "metadata": {},
   "outputs": [],
   "source": [
    "recall_score(y_test,y_pred)"
   ]
  },
  {
   "cell_type": "code",
   "execution_count": null,
   "id": "ac20ab32-2f76-4486-8899-3fe6e8dcb90b",
   "metadata": {},
   "outputs": [],
   "source": [
    "from sklearn import svm"
   ]
  },
  {
   "cell_type": "code",
   "execution_count": null,
   "id": "3ba4b8a5-ce0b-4ab1-9bfb-f1f9a0fc0693",
   "metadata": {},
   "outputs": [],
   "source": [
    "sv=svm.SVC()"
   ]
  },
  {
   "cell_type": "code",
   "execution_count": null,
   "id": "190619df-2994-4b4e-badd-f6c10daa6cf9",
   "metadata": {},
   "outputs": [],
   "source": [
    "sv.fit(x_train,y_train)"
   ]
  },
  {
   "cell_type": "code",
   "execution_count": null,
   "id": "f1b64eb9-324a-4c2a-a1f7-45bcf997e2e7",
   "metadata": {},
   "outputs": [],
   "source": [
    "y_pred=sv.predict(x_test)"
   ]
  },
  {
   "cell_type": "code",
   "execution_count": null,
   "id": "64b9c597-3631-40f9-b246-23a5a4befc64",
   "metadata": {},
   "outputs": [],
   "source": [
    "precision_score(y_test,y_pred)"
   ]
  },
  {
   "cell_type": "code",
   "execution_count": null,
   "id": "7a65dd71-a554-4392-8989-9637b9fe911a",
   "metadata": {},
   "outputs": [],
   "source": [
    "accuracy_score(y_test,y_pred)"
   ]
  },
  {
   "cell_type": "code",
   "execution_count": null,
   "id": "df31716d-5200-4def-ae60-2bab98fd674e",
   "metadata": {},
   "outputs": [],
   "source": [
    "f1_score(y_test,y_pred)"
   ]
  },
  {
   "cell_type": "code",
   "execution_count": null,
   "id": "086a9548-443a-4805-a44c-51cf816e8e1d",
   "metadata": {},
   "outputs": [],
   "source": []
  },
  {
   "cell_type": "code",
   "execution_count": null,
   "id": "8fdffc0b-7d24-493f-86e7-4e6f715416be",
   "metadata": {},
   "outputs": [],
   "source": []
  },
  {
   "cell_type": "code",
   "execution_count": null,
   "id": "efde6e3a-8354-4039-af2b-efd8ddcb50fc",
   "metadata": {},
   "outputs": [],
   "source": []
  },
  {
   "cell_type": "code",
   "execution_count": null,
   "id": "e433afb6-a1f5-4736-b958-1f17ec7bf640",
   "metadata": {},
   "outputs": [],
   "source": []
  }
 ],
 "metadata": {
  "kernelspec": {
   "display_name": "Python 3 (ipykernel)",
   "language": "python",
   "name": "python3"
  },
  "language_info": {
   "codemirror_mode": {
    "name": "ipython",
    "version": 3
   },
   "file_extension": ".py",
   "mimetype": "text/x-python",
   "name": "python",
   "nbconvert_exporter": "python",
   "pygments_lexer": "ipython3",
   "version": "3.12.4"
  }
 },
 "nbformat": 4,
 "nbformat_minor": 5
}
