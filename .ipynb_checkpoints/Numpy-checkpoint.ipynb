{
 "cells": [
  {
   "cell_type": "markdown",
   "id": "7d97fa20-b02e-4b91-a246-ddafd7a8a2bc",
   "metadata": {},
   "source": [
    "# Numpy --Practice"
   ]
  },
  {
   "cell_type": "code",
   "execution_count": 2,
   "id": "8c6d5840-0859-4da0-99f7-cbde87cc3759",
   "metadata": {},
   "outputs": [],
   "source": [
    "import numpy as np"
   ]
  },
  {
   "cell_type": "code",
   "execution_count": 3,
   "id": "6038c7fa-bfd9-4e49-9062-48277b6c7b3a",
   "metadata": {},
   "outputs": [
    {
     "data": {
      "text/plain": [
       "2"
      ]
     },
     "execution_count": 3,
     "metadata": {},
     "output_type": "execute_result"
    }
   ],
   "source": [
    "a=np.random.random(25).reshape([5,5])\n",
    "a.ndim\n"
   ]
  },
  {
   "cell_type": "code",
   "execution_count": 4,
   "id": "8178ea8e-bbc0-4fbf-9244-9a086e70ff49",
   "metadata": {},
   "outputs": [
    {
     "data": {
      "text/plain": [
       "2"
      ]
     },
     "execution_count": 4,
     "metadata": {},
     "output_type": "execute_result"
    }
   ],
   "source": [
    "np.array([[5,6],[5,6]]).ndim"
   ]
  },
  {
   "cell_type": "code",
   "execution_count": 5,
   "id": "28600ae9-4edb-482f-9423-470a73232d3d",
   "metadata": {},
   "outputs": [
    {
     "data": {
      "text/plain": [
       "array([[[ 0,  1,  2,  3,  4],\n",
       "        [ 5,  6,  7,  8,  9]],\n",
       "\n",
       "       [[10, 11, 12, 13, 14],\n",
       "        [15, 16, 17, 18, 19]],\n",
       "\n",
       "       [[20, 21, 22, 23, 24],\n",
       "        [25, 26, 27, 28, 29]],\n",
       "\n",
       "       [[30, 31, 32, 33, 34],\n",
       "        [35, 36, 37, 38, 39]],\n",
       "\n",
       "       [[40, 41, 42, 43, 44],\n",
       "        [45, 46, 47, 48, 49]]])"
      ]
     },
     "execution_count": 5,
     "metadata": {},
     "output_type": "execute_result"
    }
   ],
   "source": [
    "a=np.arange(0,50).reshape(5,2,5)\n",
    "a"
   ]
  },
  {
   "cell_type": "code",
   "execution_count": 6,
   "id": "ead55499-f93f-4ccc-bf77-67abab0a55aa",
   "metadata": {},
   "outputs": [
    {
     "name": "stdout",
     "output_type": "stream",
     "text": [
      "shape of Array (5, 2, 5)\n",
      "dimention of Array 3\n",
      "Data type of Array int32\n",
      "size of Array 50\n"
     ]
    }
   ],
   "source": [
    "print(\"shape of Array\",a.shape)\n",
    "print(\"dimention of Array\",a.ndim)\n",
    "print(\"Data type of Array\",a.dtype)\n",
    "print(\"size of Array\",a.size)"
   ]
  },
  {
   "cell_type": "markdown",
   "id": "4302144e-a2b2-44c2-ad65-6cef5606485d",
   "metadata": {},
   "source": [
    "# Create a Basic Array"
   ]
  },
  {
   "cell_type": "code",
   "execution_count": 8,
   "id": "c71387f8-c02b-455f-bdd2-69d22fb7e299",
   "metadata": {},
   "outputs": [
    {
     "data": {
      "text/plain": [
       "array([[1., 1., 1.],\n",
       "       [1., 1., 1.]])"
      ]
     },
     "execution_count": 8,
     "metadata": {},
     "output_type": "execute_result"
    }
   ],
   "source": [
    "np.ones([2,3])"
   ]
  },
  {
   "cell_type": "code",
   "execution_count": 9,
   "id": "364f87dc-5ebb-4189-8125-401ca28bb2dc",
   "metadata": {},
   "outputs": [
    {
     "data": {
      "text/plain": [
       "array([[0., 0., 0., 0., 0.],\n",
       "       [0., 0., 0., 0., 0.],\n",
       "       [0., 0., 0., 0., 0.],\n",
       "       [0., 0., 0., 0., 0.],\n",
       "       [0., 0., 0., 0., 0.]])"
      ]
     },
     "execution_count": 9,
     "metadata": {},
     "output_type": "execute_result"
    }
   ],
   "source": [
    "np.zeros([5,5])"
   ]
  },
  {
   "cell_type": "code",
   "execution_count": 10,
   "id": "8016b379-3732-4cab-955f-b48658a4a3d1",
   "metadata": {},
   "outputs": [
    {
     "data": {
      "text/plain": [
       "array([[1., 1., 1.],\n",
       "       [1., 1., 1.]])"
      ]
     },
     "execution_count": 10,
     "metadata": {},
     "output_type": "execute_result"
    }
   ],
   "source": [
    "np.empty([2,3]) #random Values that can May vary"
   ]
  },
  {
   "cell_type": "code",
   "execution_count": 11,
   "id": "1d419492-b219-4bdb-ada7-b15e1a7dd3fb",
   "metadata": {},
   "outputs": [
    {
     "data": {
      "text/plain": [
       "array([ 0,  2,  4,  6,  8, 10, 12, 14, 16, 18])"
      ]
     },
     "execution_count": 11,
     "metadata": {},
     "output_type": "execute_result"
    }
   ],
   "source": [
    "np.arange(0,20,2)"
   ]
  },
  {
   "cell_type": "code",
   "execution_count": 22,
   "id": "c420c1f0-3869-4f8a-8228-44c93b9526ab",
   "metadata": {},
   "outputs": [
    {
     "data": {
      "text/plain": [
       "array([[1, 1, 1, 1, 1],\n",
       "       [1, 1, 1, 1, 1],\n",
       "       [1, 1, 1, 1, 1]], dtype=int16)"
      ]
     },
     "execution_count": 22,
     "metadata": {},
     "output_type": "execute_result"
    }
   ],
   "source": [
    "np.ones([3,5],dtype=np.int16)"
   ]
  },
  {
   "cell_type": "markdown",
   "id": "0ce934c1-0eb8-49e8-9f5d-e8b092ff8e70",
   "metadata": {},
   "source": [
    "# Add, Remove, Short"
   ]
  },
  {
   "cell_type": "code",
   "execution_count": 32,
   "id": "0b421f3d-6cf6-426f-85e6-9283fb4df016",
   "metadata": {},
   "outputs": [
    {
     "data": {
      "text/plain": [
       "array([  0,   2,   4,   6,   8,   9,  33,  77, 999])"
      ]
     },
     "execution_count": 32,
     "metadata": {},
     "output_type": "execute_result"
    }
   ],
   "source": [
    "s=np.array([4,6,8,9,0,2,33,77,999])\n",
    "np.sort(s)"
   ]
  },
  {
   "cell_type": "code",
   "execution_count": 44,
   "id": "c43e84db-df58-4322-97f9-0328e90be245",
   "metadata": {},
   "outputs": [
    {
     "data": {
      "text/plain": [
       "array([[[ 7,  4,  2, 12],\n",
       "        [10,  5, 11,  5]],\n",
       "\n",
       "       [[ 0,  7, 15,  8],\n",
       "        [ 8,  8, 18,  4]],\n",
       "\n",
       "       [[19,  7, 21,  1],\n",
       "        [14,  0,  1, 21]]])"
      ]
     },
     "execution_count": 44,
     "metadata": {},
     "output_type": "execute_result"
    }
   ],
   "source": [
    "d=np.random.randint(0,23,[3,2,4])\n",
    "d"
   ]
  },
  {
   "cell_type": "code",
   "execution_count": 60,
   "id": "fd4e652b-90dc-4d76-8b31-a5a23462db3c",
   "metadata": {},
   "outputs": [
    {
     "name": "stdout",
     "output_type": "stream",
     "text": [
      "[1 2 3 5 7 8]\n"
     ]
    },
    {
     "data": {
      "text/plain": [
       "(1, 6)"
      ]
     },
     "execution_count": 60,
     "metadata": {},
     "output_type": "execute_result"
    }
   ],
   "source": [
    "a=np.array([1,2,3,5,7,8])\n",
    "print(a)\n",
    "a1=a[np.newaxis,:]\n",
    "a1.shape #row dimensional extension"
   ]
  },
  {
   "cell_type": "code",
   "execution_count": 68,
   "id": "e0c3faf9-a29c-4760-b9e2-6a78ab648f6c",
   "metadata": {},
   "outputs": [
    {
     "data": {
      "text/plain": [
       "(6, 1)"
      ]
     },
     "execution_count": 68,
     "metadata": {},
     "output_type": "execute_result"
    }
   ],
   "source": [
    "col=a[:,np.newaxis]\n",
    "col.shape"
   ]
  },
  {
   "cell_type": "code",
   "execution_count": 75,
   "id": "18905888-03d3-437b-ad5f-d87e0ae6ab2d",
   "metadata": {},
   "outputs": [
    {
     "data": {
      "text/plain": [
       "array([[ 9, 12, 13, 14, 18],\n",
       "       [ 0, 15,  8,  3, 12],\n",
       "       [13,  0,  0, 15,  6],\n",
       "       [ 5,  7,  8,  0,  1]])"
      ]
     },
     "execution_count": 75,
     "metadata": {},
     "output_type": "execute_result"
    }
   ],
   "source": [
    "r=np.random.randint(0,20,(4,5))\n",
    "r"
   ]
  },
  {
   "cell_type": "code",
   "execution_count": 81,
   "id": "58501e48-c595-4484-b4b3-23deac20e50e",
   "metadata": {},
   "outputs": [
    {
     "data": {
      "text/plain": [
       "array([ 9, 12, 13, 14, 18, 15,  8, 12, 13, 15,  6,  5,  7,  8])"
      ]
     },
     "execution_count": 81,
     "metadata": {},
     "output_type": "execute_result"
    }
   ],
   "source": [
    "r[r>=5]  #giving condition within the index asme as grater_five=r>5"
   ]
  },
  {
   "cell_type": "code",
   "execution_count": null,
   "id": "d47f6e75-915c-47bd-9ebf-a5b51574ad6e",
   "metadata": {},
   "outputs": [],
   "source": []
  }
 ],
 "metadata": {
  "kernelspec": {
   "display_name": "Python 3 (ipykernel)",
   "language": "python",
   "name": "python3"
  },
  "language_info": {
   "codemirror_mode": {
    "name": "ipython",
    "version": 3
   },
   "file_extension": ".py",
   "mimetype": "text/x-python",
   "name": "python",
   "nbconvert_exporter": "python",
   "pygments_lexer": "ipython3",
   "version": "3.12.4"
  }
 },
 "nbformat": 4,
 "nbformat_minor": 5
}
